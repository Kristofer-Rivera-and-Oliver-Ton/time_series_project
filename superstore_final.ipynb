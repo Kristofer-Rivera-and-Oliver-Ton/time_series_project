{
 "cells": [
  {
   "cell_type": "markdown",
   "id": "51cd452b-a440-49c2-a211-c6b0b8cd0e80",
   "metadata": {},
   "source": [
    "# SUPERSTORE PROJECT\n",
    "by: Kristofer Rivera, Oliver Ton - 04/21/2022"
   ]
  },
  {
   "cell_type": "markdown",
   "id": "056bf401-a5dd-4463-a707-d0b8f8cd8ede",
   "metadata": {},
   "source": [
    "## Overview\n",
    "\n",
    "Superstore's mission is to be the preferred supplier of workspace solutions; from home-office to cooperate office, we aspire to be the leading expert in workplace solutions for everyone! For this reason, it is important to know whether we are reaching everyone with our products and services. This project will use exploration, modeling to identify the best category for Superstore in regards to sales and will provide recommendations on where to shift our company focus in order to maintain happy loyal customers while continuing to grow our customer base."
   ]
  },
  {
   "cell_type": "markdown",
   "id": "93320e68-66b5-426f-ac1b-57a14e557bad",
   "metadata": {
    "tags": []
   },
   "source": [
    "## Goal\n",
    "\n",
    "The goal of this project is to identify which category is the best for SuperStore, a office-supply retail store, and make recommendations on where to shift company focus in regards to category.\n",
    "\n"
   ]
  },
  {
   "cell_type": "markdown",
   "id": "1da1ba3f-de2e-436b-a30c-9a173d0fe319",
   "metadata": {},
   "source": [
    "## Focused Questions\n",
    "\n",
    "1.What category base contributes the most to profit?\n",
    "\n",
    "2.What category base contributes the most to sales?\n",
    "\n",
    "3.How does the impact of each customer segment change over time?\n",
    "\n",
    "4.What is the sales goals for the next 5 years?"
   ]
  },
  {
   "cell_type": "code",
   "execution_count": 2,
   "id": "72f2fdd5-83ee-4de8-9b7f-44fa6a1d0c1b",
   "metadata": {},
   "outputs": [],
   "source": [
    "# visualize \n",
    "import matplotlib.pyplot as plt\n",
    "\n",
    "# for tsa\n",
    "import statsmodels.api as sm\n",
    "\n",
    "#important import \n",
    "import pandas as pd\n",
    "import numpy as np\n",
    "import os\n",
    "import wrangle as w\n",
    "import model as m\n",
    "\n",
    "# plotting defaults\n",
    "plt.rc('figure', figsize=(13, 7))\n",
    "plt.style.use('seaborn-dark-palette')\n",
    "plt.rc('font', size=16)"
   ]
  },
  {
   "cell_type": "markdown",
   "id": "7e492998-9df9-4bdd-8583-3e1cf9e42cca",
   "metadata": {},
   "source": [
    "### Wrangle"
   ]
  },
  {
   "cell_type": "code",
   "execution_count": 4,
   "id": "f25fb053-31b2-43d4-90e6-3cac4c528df1",
   "metadata": {},
   "outputs": [],
   "source": [
    "#Acquire superstore dataset\n",
    "df = w.get_superstore_data()"
   ]
  },
  {
   "cell_type": "code",
   "execution_count": 6,
   "id": "0967c477-950f-40b4-ba4f-ab44d92f3688",
   "metadata": {},
   "outputs": [],
   "source": [
    "#Clean superstore data\n",
    "df = w.prep_superstore(df, 'Order Date', 'Ship Date')"
   ]
  },
  {
   "cell_type": "markdown",
   "id": "4a02ddf5-d9b8-45f7-ba32-f7a4b2fbbda5",
   "metadata": {},
   "source": [
    "**Take away:**\n",
    "- The data have no nulls, change datatypes of order date and ship date into datetime and then set order date as an index.\n",
    "- Remove id columns (foreign keys)\n",
    "- Rename columns, create month columns (month name)"
   ]
  },
  {
   "cell_type": "markdown",
   "id": "e119bf82-a0bf-4aea-ba74-e99a931890da",
   "metadata": {},
   "source": [
    "### Exploration"
   ]
  },
  {
   "cell_type": "code",
   "execution_count": null,
   "id": "f9c3b8ed-330c-4617-9d5f-b48464bbe5aa",
   "metadata": {},
   "outputs": [],
   "source": []
  },
  {
   "cell_type": "code",
   "execution_count": null,
   "id": "5d920fcd-8c5c-4592-9cd3-601695bd2b4a",
   "metadata": {},
   "outputs": [],
   "source": []
  },
  {
   "cell_type": "markdown",
   "id": "77e705c3-48f6-4c82-bb43-8c6bd0bf7f7c",
   "metadata": {},
   "source": [
    "## Modeling"
   ]
  },
  {
   "cell_type": "code",
   "execution_count": null,
   "id": "7b39deec-9ef4-4060-a91c-a49eedfb984e",
   "metadata": {},
   "outputs": [],
   "source": []
  },
  {
   "cell_type": "code",
   "execution_count": null,
   "id": "94e911ce-7717-4f32-9df7-cb6801be4c04",
   "metadata": {},
   "outputs": [],
   "source": []
  },
  {
   "cell_type": "markdown",
   "id": "db1526f9-4592-4d43-9699-6a3278f8d21a",
   "metadata": {},
   "source": [
    "### Conclusion"
   ]
  },
  {
   "cell_type": "code",
   "execution_count": null,
   "id": "e66d3d4b-1f29-48e1-aa38-2434954ced7a",
   "metadata": {},
   "outputs": [],
   "source": []
  },
  {
   "cell_type": "markdown",
   "id": "b97faf4a-0540-4c45-8aef-6617bfdeabac",
   "metadata": {},
   "source": [
    "### Recomendations"
   ]
  },
  {
   "cell_type": "code",
   "execution_count": null,
   "id": "9f8eaf6f-fc47-4c50-93f9-4f08b4b49cea",
   "metadata": {},
   "outputs": [],
   "source": []
  },
  {
   "cell_type": "markdown",
   "id": "a5e27c4c-5573-43f8-9753-8e92671a7d82",
   "metadata": {},
   "source": [
    "### Next steps"
   ]
  },
  {
   "cell_type": "code",
   "execution_count": null,
   "id": "04ceee6d-dc5c-4bb5-8ad4-ffc7e8b998a4",
   "metadata": {},
   "outputs": [],
   "source": []
  }
 ],
 "metadata": {
  "kernelspec": {
   "display_name": "Python 3 (ipykernel)",
   "language": "python",
   "name": "python3"
  },
  "language_info": {
   "codemirror_mode": {
    "name": "ipython",
    "version": 3
   },
   "file_extension": ".py",
   "mimetype": "text/x-python",
   "name": "python",
   "nbconvert_exporter": "python",
   "pygments_lexer": "ipython3",
   "version": "3.9.7"
  }
 },
 "nbformat": 4,
 "nbformat_minor": 5
}
