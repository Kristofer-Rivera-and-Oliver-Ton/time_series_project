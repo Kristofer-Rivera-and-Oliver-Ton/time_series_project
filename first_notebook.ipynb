{
 "cells": [
  {
   "cell_type": "code",
   "execution_count": 1,
   "id": "ef3222f8-487b-4db4-8c9d-b2b31f8c5686",
   "metadata": {},
   "outputs": [],
   "source": [
    "# turn off pink warning boxes\n",
    "import warnings\n",
    "warnings.filterwarnings(\"ignore\")\n",
    "\n",
    "# visualize \n",
    "import matplotlib.pyplot as plt\n",
    "%matplotlib inline\n",
    "import seaborn as sns\n",
    "from scipy import stats\n",
    "\n",
    "# working with dates\n",
    "from datetime import datetime\n",
    "\n",
    "# to evaluated performance using rmse\n",
    "from sklearn.metrics import mean_squared_error\n",
    "from math import sqrt \n",
    "\n",
    "# for tsa \n",
    "import statsmodels.api as sm\n",
    "\n",
    "# holt's linear trend model. \n",
    "from statsmodels.tsa.api import Holt\n",
    "\n",
    "#important import \n",
    "import pandas as pd\n",
    "import numpy as np\n",
    "import os\n",
    "import wrangle as w"
   ]
  },
  {
   "cell_type": "code",
   "execution_count": 2,
   "id": "b44e5860-64f8-41b8-8a91-7cb2ee65a9d4",
   "metadata": {},
   "outputs": [],
   "source": [
    "# plotting defaults\n",
    "plt.rc('figure', figsize=(13, 7))\n",
    "plt.style.use('seaborn-dark-palette')\n",
    "plt.rc('font', size=16)"
   ]
  },
  {
   "cell_type": "code",
   "execution_count": 3,
   "id": "c4a047d2-4c39-491a-ad90-07cc287c0fc4",
   "metadata": {},
   "outputs": [],
   "source": [
    "#Acquire superstore data from codeup database\n",
    "df = w.get_superstore_data()"
   ]
  },
  {
   "cell_type": "code",
   "execution_count": 4,
   "id": "e2aac64b-5e14-4841-9441-495e5def295f",
   "metadata": {},
   "outputs": [
    {
     "data": {
      "text/html": [
       "<div>\n",
       "<style scoped>\n",
       "    .dataframe tbody tr th:only-of-type {\n",
       "        vertical-align: middle;\n",
       "    }\n",
       "\n",
       "    .dataframe tbody tr th {\n",
       "        vertical-align: top;\n",
       "    }\n",
       "\n",
       "    .dataframe thead th {\n",
       "        text-align: right;\n",
       "    }\n",
       "</style>\n",
       "<table border=\"1\" class=\"dataframe\">\n",
       "  <thead>\n",
       "    <tr style=\"text-align: right;\">\n",
       "      <th></th>\n",
       "      <th>Region ID</th>\n",
       "      <th>Category ID</th>\n",
       "      <th>Product ID</th>\n",
       "      <th>Customer ID</th>\n",
       "      <th>Order ID</th>\n",
       "      <th>Order Date</th>\n",
       "      <th>Ship Date</th>\n",
       "      <th>Ship Mode</th>\n",
       "      <th>Segment</th>\n",
       "      <th>Country</th>\n",
       "      <th>...</th>\n",
       "      <th>Postal Code</th>\n",
       "      <th>Sales</th>\n",
       "      <th>Quantity</th>\n",
       "      <th>Discount</th>\n",
       "      <th>Profit</th>\n",
       "      <th>Customer Name</th>\n",
       "      <th>Product Name</th>\n",
       "      <th>Category</th>\n",
       "      <th>Sub-Category</th>\n",
       "      <th>Region Name</th>\n",
       "    </tr>\n",
       "  </thead>\n",
       "  <tbody>\n",
       "    <tr>\n",
       "      <th>0</th>\n",
       "      <td>1</td>\n",
       "      <td>1</td>\n",
       "      <td>FUR-BO-10001798</td>\n",
       "      <td>CG-12520</td>\n",
       "      <td>CA-2016-152156</td>\n",
       "      <td>2016-11-08</td>\n",
       "      <td>2016-11-11</td>\n",
       "      <td>Second Class</td>\n",
       "      <td>Consumer</td>\n",
       "      <td>United States</td>\n",
       "      <td>...</td>\n",
       "      <td>42420.0</td>\n",
       "      <td>261.9600</td>\n",
       "      <td>2.0</td>\n",
       "      <td>0.00</td>\n",
       "      <td>41.9136</td>\n",
       "      <td>Claire Gute</td>\n",
       "      <td>Bush Somerset Collection Bookcase</td>\n",
       "      <td>Furniture</td>\n",
       "      <td>Bookcases</td>\n",
       "      <td>South</td>\n",
       "    </tr>\n",
       "    <tr>\n",
       "      <th>1</th>\n",
       "      <td>1</td>\n",
       "      <td>2</td>\n",
       "      <td>FUR-CH-10000454</td>\n",
       "      <td>CG-12520</td>\n",
       "      <td>CA-2016-152156</td>\n",
       "      <td>2016-11-08</td>\n",
       "      <td>2016-11-11</td>\n",
       "      <td>Second Class</td>\n",
       "      <td>Consumer</td>\n",
       "      <td>United States</td>\n",
       "      <td>...</td>\n",
       "      <td>42420.0</td>\n",
       "      <td>731.9400</td>\n",
       "      <td>3.0</td>\n",
       "      <td>0.00</td>\n",
       "      <td>219.5820</td>\n",
       "      <td>Claire Gute</td>\n",
       "      <td>Hon Deluxe Fabric Upholstered Stacking Chairs,...</td>\n",
       "      <td>Furniture</td>\n",
       "      <td>Chairs</td>\n",
       "      <td>South</td>\n",
       "    </tr>\n",
       "    <tr>\n",
       "      <th>2</th>\n",
       "      <td>1</td>\n",
       "      <td>4</td>\n",
       "      <td>FUR-TA-10000577</td>\n",
       "      <td>SO-20335</td>\n",
       "      <td>US-2015-108966</td>\n",
       "      <td>2015-10-11</td>\n",
       "      <td>2015-10-18</td>\n",
       "      <td>Standard Class</td>\n",
       "      <td>Consumer</td>\n",
       "      <td>United States</td>\n",
       "      <td>...</td>\n",
       "      <td>33311.0</td>\n",
       "      <td>957.5775</td>\n",
       "      <td>5.0</td>\n",
       "      <td>0.45</td>\n",
       "      <td>-383.0310</td>\n",
       "      <td>Sean O'Donnell</td>\n",
       "      <td>Bretford CR4500 Series Slim Rectangular Table</td>\n",
       "      <td>Furniture</td>\n",
       "      <td>Tables</td>\n",
       "      <td>South</td>\n",
       "    </tr>\n",
       "    <tr>\n",
       "      <th>3</th>\n",
       "      <td>1</td>\n",
       "      <td>5</td>\n",
       "      <td>OFF-ST-10000760</td>\n",
       "      <td>SO-20335</td>\n",
       "      <td>US-2015-108966</td>\n",
       "      <td>2015-10-11</td>\n",
       "      <td>2015-10-18</td>\n",
       "      <td>Standard Class</td>\n",
       "      <td>Consumer</td>\n",
       "      <td>United States</td>\n",
       "      <td>...</td>\n",
       "      <td>33311.0</td>\n",
       "      <td>22.3680</td>\n",
       "      <td>2.0</td>\n",
       "      <td>0.20</td>\n",
       "      <td>2.5164</td>\n",
       "      <td>Sean O'Donnell</td>\n",
       "      <td>Eldon Fold 'N Roll Cart System</td>\n",
       "      <td>Office Supplies</td>\n",
       "      <td>Storage</td>\n",
       "      <td>South</td>\n",
       "    </tr>\n",
       "    <tr>\n",
       "      <th>4</th>\n",
       "      <td>1</td>\n",
       "      <td>11</td>\n",
       "      <td>OFF-PA-10002365</td>\n",
       "      <td>AA-10480</td>\n",
       "      <td>CA-2017-114412</td>\n",
       "      <td>2017-04-15</td>\n",
       "      <td>2017-04-20</td>\n",
       "      <td>Standard Class</td>\n",
       "      <td>Consumer</td>\n",
       "      <td>United States</td>\n",
       "      <td>...</td>\n",
       "      <td>28027.0</td>\n",
       "      <td>15.5520</td>\n",
       "      <td>3.0</td>\n",
       "      <td>0.20</td>\n",
       "      <td>5.4432</td>\n",
       "      <td>Andrew Allen</td>\n",
       "      <td>Xerox 1967</td>\n",
       "      <td>Office Supplies</td>\n",
       "      <td>Paper</td>\n",
       "      <td>South</td>\n",
       "    </tr>\n",
       "  </tbody>\n",
       "</table>\n",
       "<p>5 rows × 22 columns</p>\n",
       "</div>"
      ],
      "text/plain": [
       "   Region ID  Category ID       Product ID Customer ID        Order ID  \\\n",
       "0          1            1  FUR-BO-10001798    CG-12520  CA-2016-152156   \n",
       "1          1            2  FUR-CH-10000454    CG-12520  CA-2016-152156   \n",
       "2          1            4  FUR-TA-10000577    SO-20335  US-2015-108966   \n",
       "3          1            5  OFF-ST-10000760    SO-20335  US-2015-108966   \n",
       "4          1           11  OFF-PA-10002365    AA-10480  CA-2017-114412   \n",
       "\n",
       "   Order Date   Ship Date       Ship Mode   Segment        Country  ...  \\\n",
       "0  2016-11-08  2016-11-11    Second Class  Consumer  United States  ...   \n",
       "1  2016-11-08  2016-11-11    Second Class  Consumer  United States  ...   \n",
       "2  2015-10-11  2015-10-18  Standard Class  Consumer  United States  ...   \n",
       "3  2015-10-11  2015-10-18  Standard Class  Consumer  United States  ...   \n",
       "4  2017-04-15  2017-04-20  Standard Class  Consumer  United States  ...   \n",
       "\n",
       "  Postal Code     Sales  Quantity  Discount    Profit   Customer Name  \\\n",
       "0     42420.0  261.9600       2.0      0.00   41.9136     Claire Gute   \n",
       "1     42420.0  731.9400       3.0      0.00  219.5820     Claire Gute   \n",
       "2     33311.0  957.5775       5.0      0.45 -383.0310  Sean O'Donnell   \n",
       "3     33311.0   22.3680       2.0      0.20    2.5164  Sean O'Donnell   \n",
       "4     28027.0   15.5520       3.0      0.20    5.4432    Andrew Allen   \n",
       "\n",
       "                                        Product Name         Category  \\\n",
       "0                  Bush Somerset Collection Bookcase        Furniture   \n",
       "1  Hon Deluxe Fabric Upholstered Stacking Chairs,...        Furniture   \n",
       "2      Bretford CR4500 Series Slim Rectangular Table        Furniture   \n",
       "3                     Eldon Fold 'N Roll Cart System  Office Supplies   \n",
       "4                                         Xerox 1967  Office Supplies   \n",
       "\n",
       "  Sub-Category Region Name  \n",
       "0    Bookcases       South  \n",
       "1       Chairs       South  \n",
       "2       Tables       South  \n",
       "3      Storage       South  \n",
       "4        Paper       South  \n",
       "\n",
       "[5 rows x 22 columns]"
      ]
     },
     "execution_count": 4,
     "metadata": {},
     "output_type": "execute_result"
    }
   ],
   "source": [
    "df.head()"
   ]
  },
  {
   "cell_type": "code",
   "execution_count": 5,
   "id": "af50693e-ae74-422e-9778-5ee847fcac80",
   "metadata": {},
   "outputs": [
    {
     "name": "stdout",
     "output_type": "stream",
     "text": [
      "<class 'pandas.core.frame.DataFrame'>\n",
      "Int64Index: 1734 entries, 0 to 1733\n",
      "Data columns (total 22 columns):\n",
      " #   Column         Non-Null Count  Dtype  \n",
      "---  ------         --------------  -----  \n",
      " 0   Region ID      1734 non-null   int64  \n",
      " 1   Category ID    1734 non-null   int64  \n",
      " 2   Product ID     1734 non-null   object \n",
      " 3   Customer ID    1734 non-null   object \n",
      " 4   Order ID       1734 non-null   object \n",
      " 5   Order Date     1734 non-null   object \n",
      " 6   Ship Date      1734 non-null   object \n",
      " 7   Ship Mode      1734 non-null   object \n",
      " 8   Segment        1734 non-null   object \n",
      " 9   Country        1734 non-null   object \n",
      " 10  City           1734 non-null   object \n",
      " 11  State          1734 non-null   object \n",
      " 12  Postal Code    1734 non-null   float64\n",
      " 13  Sales          1734 non-null   float64\n",
      " 14  Quantity       1734 non-null   float64\n",
      " 15  Discount       1734 non-null   float64\n",
      " 16  Profit         1734 non-null   float64\n",
      " 17  Customer Name  1734 non-null   object \n",
      " 18  Product Name   1734 non-null   object \n",
      " 19  Category       1734 non-null   object \n",
      " 20  Sub-Category   1734 non-null   object \n",
      " 21  Region Name    1734 non-null   object \n",
      "dtypes: float64(5), int64(2), object(15)\n",
      "memory usage: 311.6+ KB\n"
     ]
    }
   ],
   "source": [
    "df.info()"
   ]
  },
  {
   "cell_type": "code",
   "execution_count": 6,
   "id": "6ac2eba7-867c-4250-88e9-4f5286b2e556",
   "metadata": {},
   "outputs": [
    {
     "data": {
      "text/plain": [
       "0"
      ]
     },
     "execution_count": 6,
     "metadata": {},
     "output_type": "execute_result"
    }
   ],
   "source": [
    "#Checking the nulls\n",
    "df.isnull().sum().sum()"
   ]
  },
  {
   "cell_type": "code",
   "execution_count": 7,
   "id": "85fd7eae-0410-4b6d-874c-1b7c2299927a",
   "metadata": {},
   "outputs": [],
   "source": [
    "#Cleaning superstore data\n",
    "df = w.prep_superstore(df, 'Order Date', 'Ship Date')"
   ]
  },
  {
   "cell_type": "code",
   "execution_count": 8,
   "id": "3ff52d7a-88bf-4990-9ae0-90dff251f8de",
   "metadata": {},
   "outputs": [
    {
     "name": "stdout",
     "output_type": "stream",
     "text": [
      "<class 'pandas.core.frame.DataFrame'>\n",
      "DatetimeIndex: 1734 entries, 2014-01-04 to 2017-12-30\n",
      "Data columns (total 21 columns):\n",
      " #   Column         Non-Null Count  Dtype         \n",
      "---  ------         --------------  -----         \n",
      " 0   product_id     1734 non-null   object        \n",
      " 1   customer_id    1734 non-null   object        \n",
      " 2   order_id       1734 non-null   object        \n",
      " 3   ship_date      1734 non-null   datetime64[ns]\n",
      " 4   ship_mode      1734 non-null   object        \n",
      " 5   segment        1734 non-null   object        \n",
      " 6   country        1734 non-null   object        \n",
      " 7   city           1734 non-null   object        \n",
      " 8   state          1734 non-null   object        \n",
      " 9   postal_code    1734 non-null   float64       \n",
      " 10  sales          1734 non-null   float64       \n",
      " 11  quantity       1734 non-null   float64       \n",
      " 12  discount       1734 non-null   float64       \n",
      " 13  profit         1734 non-null   float64       \n",
      " 14  customer_name  1734 non-null   object        \n",
      " 15  product_name   1734 non-null   object        \n",
      " 16  category       1734 non-null   object        \n",
      " 17  sub_category   1734 non-null   object        \n",
      " 18  region_name    1734 non-null   object        \n",
      " 19  month          1734 non-null   object        \n",
      " 20  year           1734 non-null   int64         \n",
      "dtypes: datetime64[ns](1), float64(5), int64(1), object(14)\n",
      "memory usage: 298.0+ KB\n"
     ]
    }
   ],
   "source": [
    "#Check to see if function rename the columns correctly\n",
    "df.info()"
   ]
  },
  {
   "cell_type": "code",
   "execution_count": 9,
   "id": "5e7074ee-1268-4eed-b2ce-1d9435b31e2c",
   "metadata": {},
   "outputs": [
    {
     "data": {
      "text/html": [
       "<div>\n",
       "<style scoped>\n",
       "    .dataframe tbody tr th:only-of-type {\n",
       "        vertical-align: middle;\n",
       "    }\n",
       "\n",
       "    .dataframe tbody tr th {\n",
       "        vertical-align: top;\n",
       "    }\n",
       "\n",
       "    .dataframe thead th {\n",
       "        text-align: right;\n",
       "    }\n",
       "</style>\n",
       "<table border=\"1\" class=\"dataframe\">\n",
       "  <thead>\n",
       "    <tr style=\"text-align: right;\">\n",
       "      <th></th>\n",
       "      <th>count</th>\n",
       "      <th>mean</th>\n",
       "      <th>std</th>\n",
       "      <th>min</th>\n",
       "      <th>25%</th>\n",
       "      <th>50%</th>\n",
       "      <th>75%</th>\n",
       "      <th>max</th>\n",
       "    </tr>\n",
       "  </thead>\n",
       "  <tbody>\n",
       "    <tr>\n",
       "      <th>postal_code</th>\n",
       "      <td>1734.0</td>\n",
       "      <td>53501.926182</td>\n",
       "      <td>32180.245224</td>\n",
       "      <td>1841.0000</td>\n",
       "      <td>19143.0000</td>\n",
       "      <td>50315.00000</td>\n",
       "      <td>85705.00000</td>\n",
       "      <td>98661.000</td>\n",
       "    </tr>\n",
       "    <tr>\n",
       "      <th>sales</th>\n",
       "      <td>1734.0</td>\n",
       "      <td>229.206358</td>\n",
       "      <td>532.862614</td>\n",
       "      <td>1.0800</td>\n",
       "      <td>16.6950</td>\n",
       "      <td>52.24500</td>\n",
       "      <td>209.91750</td>\n",
       "      <td>8159.952</td>\n",
       "    </tr>\n",
       "    <tr>\n",
       "      <th>quantity</th>\n",
       "      <td>1734.0</td>\n",
       "      <td>3.794694</td>\n",
       "      <td>2.297407</td>\n",
       "      <td>1.0000</td>\n",
       "      <td>2.0000</td>\n",
       "      <td>3.00000</td>\n",
       "      <td>5.00000</td>\n",
       "      <td>14.000</td>\n",
       "    </tr>\n",
       "    <tr>\n",
       "      <th>discount</th>\n",
       "      <td>1734.0</td>\n",
       "      <td>0.160110</td>\n",
       "      <td>0.206419</td>\n",
       "      <td>0.0000</td>\n",
       "      <td>0.0000</td>\n",
       "      <td>0.20000</td>\n",
       "      <td>0.20000</td>\n",
       "      <td>0.800</td>\n",
       "    </tr>\n",
       "    <tr>\n",
       "      <th>profit</th>\n",
       "      <td>1734.0</td>\n",
       "      <td>21.880351</td>\n",
       "      <td>202.891949</td>\n",
       "      <td>-3839.9904</td>\n",
       "      <td>1.7024</td>\n",
       "      <td>8.07305</td>\n",
       "      <td>27.41445</td>\n",
       "      <td>3177.475</td>\n",
       "    </tr>\n",
       "    <tr>\n",
       "      <th>year</th>\n",
       "      <td>1734.0</td>\n",
       "      <td>2015.679931</td>\n",
       "      <td>1.086921</td>\n",
       "      <td>2014.0000</td>\n",
       "      <td>2015.0000</td>\n",
       "      <td>2016.00000</td>\n",
       "      <td>2017.00000</td>\n",
       "      <td>2017.000</td>\n",
       "    </tr>\n",
       "  </tbody>\n",
       "</table>\n",
       "</div>"
      ],
      "text/plain": [
       "              count          mean           std        min         25%  \\\n",
       "postal_code  1734.0  53501.926182  32180.245224  1841.0000  19143.0000   \n",
       "sales        1734.0    229.206358    532.862614     1.0800     16.6950   \n",
       "quantity     1734.0      3.794694      2.297407     1.0000      2.0000   \n",
       "discount     1734.0      0.160110      0.206419     0.0000      0.0000   \n",
       "profit       1734.0     21.880351    202.891949 -3839.9904      1.7024   \n",
       "year         1734.0   2015.679931      1.086921  2014.0000   2015.0000   \n",
       "\n",
       "                     50%          75%        max  \n",
       "postal_code  50315.00000  85705.00000  98661.000  \n",
       "sales           52.24500    209.91750   8159.952  \n",
       "quantity         3.00000      5.00000     14.000  \n",
       "discount         0.20000      0.20000      0.800  \n",
       "profit           8.07305     27.41445   3177.475  \n",
       "year          2016.00000   2017.00000   2017.000  "
      ]
     },
     "execution_count": 9,
     "metadata": {},
     "output_type": "execute_result"
    }
   ],
   "source": [
    "#Let's take a look about the statistics of numeric values in the data.\n",
    "df.describe().T"
   ]
  },
  {
   "cell_type": "code",
   "execution_count": 10,
   "id": "8a18b81e-70e2-47c7-a864-aaf6f3bb03db",
   "metadata": {},
   "outputs": [
    {
     "data": {
      "text/plain": [
       "array(['Office Supplies', 'Technology', 'Furniture'], dtype=object)"
      ]
     },
     "execution_count": 10,
     "metadata": {},
     "output_type": "execute_result"
    }
   ],
   "source": [
    "#Let's see how many categories of products we have in the data.\n",
    "df.category.unique()"
   ]
  },
  {
   "cell_type": "code",
   "execution_count": 11,
   "id": "92760a2f-3e2b-4fd6-aa56-ba1195248176",
   "metadata": {},
   "outputs": [
    {
     "data": {
      "text/plain": [
       "Office Supplies    1055\n",
       "Furniture           360\n",
       "Technology          319\n",
       "Name: category, dtype: int64"
      ]
     },
     "execution_count": 11,
     "metadata": {},
     "output_type": "execute_result"
    }
   ],
   "source": [
    "df.category.value_counts()"
   ]
  },
  {
   "cell_type": "code",
   "execution_count": 12,
   "id": "56111e62-6891-40f5-98f6-fdafe5a5f625",
   "metadata": {},
   "outputs": [],
   "source": [
    "# Extract the data of Office Supplies\n",
    "office_supplies = df.loc[df['category'] == 'Office Supplies']"
   ]
  },
  {
   "cell_type": "code",
   "execution_count": 13,
   "id": "5592a4b6-b2a1-4901-8555-4ad76e687e69",
   "metadata": {},
   "outputs": [
    {
     "data": {
      "text/plain": [
       "(Timestamp('2014-01-04 00:00:00'), Timestamp('2017-12-30 00:00:00'))"
      ]
     },
     "execution_count": 13,
     "metadata": {},
     "output_type": "execute_result"
    }
   ],
   "source": [
    "#Get 4-year office supplies sales data.\n",
    "office_supplies.index.min(), office_supplies.index.max()"
   ]
  },
  {
   "cell_type": "code",
   "execution_count": 14,
   "id": "a41eda60-7f8a-4fe8-b900-1b5fc045c4b1",
   "metadata": {},
   "outputs": [
    {
     "data": {
      "text/plain": [
       "DatetimeIndex(['2014-01-04', '2014-01-04', '2014-01-04', '2014-01-09',\n",
       "               '2014-01-10', '2014-01-13', '2014-01-13', '2014-01-13',\n",
       "               '2014-01-13', '2014-01-16',\n",
       "               ...\n",
       "               '2017-12-26', '2017-12-28', '2017-12-28', '2017-12-28',\n",
       "               '2017-12-28', '2017-12-28', '2017-12-30', '2017-12-30',\n",
       "               '2017-12-30', '2017-12-30'],\n",
       "              dtype='datetime64[ns]', name='Order Date', length=1055, freq=None)"
      ]
     },
     "execution_count": 14,
     "metadata": {},
     "output_type": "execute_result"
    }
   ],
   "source": [
    "office_supplies.index"
   ]
  },
  {
   "cell_type": "code",
   "execution_count": 16,
   "id": "fa2eb3ea-65d7-4733-8ee7-b45389734c29",
   "metadata": {},
   "outputs": [],
   "source": [
    "#using the start of each month as the timestamp\n",
    "monthly = office_supplies['sales'].resample('MS').mean()"
   ]
  },
  {
   "cell_type": "code",
   "execution_count": 17,
   "id": "0e46e6a3-9248-4a87-b894-5d32d4421f8b",
   "metadata": {},
   "outputs": [
    {
     "data": {
      "text/plain": [
       "Order Date\n",
       "2014-01-01     74.457429\n",
       "2014-02-01     33.662571\n",
       "2014-03-01     67.455412\n",
       "2014-04-01     66.099500\n",
       "2014-05-01    375.750667\n",
       "2014-06-01    140.007565\n",
       "2014-07-01     79.522000\n",
       "2014-08-01    110.157043\n",
       "2014-09-01     69.604690\n",
       "2014-10-01     81.188333\n",
       "2014-11-01    147.313368\n",
       "2014-12-01     98.343273\n",
       "2015-01-01     20.976000\n",
       "2015-02-01      5.280000\n",
       "2015-03-01    591.895286\n",
       "2015-04-01     81.791048\n",
       "2015-05-01    147.551111\n",
       "2015-06-01     41.702000\n",
       "2015-07-01     99.810900\n",
       "2015-08-01    179.547652\n",
       "2015-09-01     99.560486\n",
       "2015-10-01     54.009333\n",
       "2015-11-01     98.947594\n",
       "2015-12-01     96.551333\n",
       "2016-01-01     20.664000\n",
       "2016-02-01    169.427077\n",
       "2016-03-01     92.878643\n",
       "2016-04-01     88.174581\n",
       "2016-05-01    103.841600\n",
       "2016-06-01    106.722919\n",
       "2016-07-01     87.023636\n",
       "2016-08-01     66.192900\n",
       "2016-09-01    233.697250\n",
       "2016-10-01     91.151320\n",
       "2016-11-01     39.701109\n",
       "2016-12-01    145.662103\n",
       "2017-01-01    132.975750\n",
       "2017-02-01     92.604625\n",
       "2017-03-01     98.022364\n",
       "2017-04-01     56.348714\n",
       "2017-05-01     62.490889\n",
       "2017-06-01    109.397250\n",
       "2017-07-01     79.098778\n",
       "2017-08-01     50.871077\n",
       "2017-09-01     46.923029\n",
       "2017-10-01    117.250839\n",
       "2017-11-01     68.562783\n",
       "2017-12-01    116.287982\n",
       "Freq: MS, Name: sales, dtype: float64"
      ]
     },
     "execution_count": 17,
     "metadata": {},
     "output_type": "execute_result"
    }
   ],
   "source": [
    "monthly"
   ]
  },
  {
   "cell_type": "code",
   "execution_count": 19,
   "id": "220e5323-0dca-4829-8114-d3df909560e0",
   "metadata": {},
   "outputs": [
    {
     "data": {
      "image/png": "[encoded data removed]",
      "text/plain": [
       "<Figure size 936x504 with 1 Axes>"
      ]
     },
     "metadata": {
      "needs_background": "light"
     },
     "output_type": "display_data"
    }
   ],
   "source": [
    "#Lets see monthly sales\n",
    "monthly.plot()\n",
    "plt.show()"
   ]
  },
  {
   "cell_type": "code",
   "execution_count": null,
   "id": "a35f1726-9991-4c74-9af6-c95e45997470",
   "metadata": {},
   "outputs": [],
   "source": []
  }
 ],
 "metadata": {
  "kernelspec": {
   "display_name": "Python 3 (ipykernel)",
   "language": "python",
   "name": "python3"
  },
  "language_info": {
   "codemirror_mode": {
    "name": "ipython",
    "version": 3
   },
   "file_extension": ".py",
   "mimetype": "text/x-python",
   "name": "python",
   "nbconvert_exporter": "python",
   "pygments_lexer": "ipython3",
   "version": "3.9.7"
  }
 },
 "nbformat": 4,
 "nbformat_minor": 5
}
