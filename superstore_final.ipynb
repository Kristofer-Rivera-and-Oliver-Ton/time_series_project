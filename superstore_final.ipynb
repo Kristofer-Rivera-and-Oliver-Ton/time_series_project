{
 "cells": [
  {
   "cell_type": "markdown",
   "id": "51cd452b-a440-49c2-a211-c6b0b8cd0e80",
   "metadata": {},
   "source": [
    "# SUPERSTORE PROJECT\n",
    "by: Kristofer Rivera, Oliver Ton - 04/21/2022"
   ]
  },
  {
   "cell_type": "markdown",
   "id": "056bf401-a5dd-4463-a707-d0b8f8cd8ede",
   "metadata": {},
   "source": [
    "## Overview\n",
    "\n",
    "Superstore's mission is to be the preferred supplier of workspace solutions; from home-office to cooperate office, we aspire to be the leading expert in workplace solutions for everyone! For this reason, it is important to know whether we are reaching everyone with our products and services. This project will use exploration, modeling to identify the best category for Superstore in regards to sales and will provide recommendations on where to shift our company focus in order to maintain happy loyal customers while continuing to grow our customer base."
   ]
  },
  {
   "cell_type": "markdown",
   "id": "93320e68-66b5-426f-ac1b-57a14e557bad",
   "metadata": {
    "tags": []
   },
   "source": [
    "## Goal\n",
    "\n",
    "The goal of this project is to identify which category is the best for SuperStore, a office-supply retail store, and make recommendations on where to shift company focus in regards to category.\n",
    "\n"
   ]
  },
  {
   "cell_type": "markdown",
   "id": "1da1ba3f-de2e-436b-a30c-9a173d0fe319",
   "metadata": {},
   "source": [
    "## Focused Questions\n",
    "\n",
    "1.What category base contributes the most to profit?\n",
    "\n",
    "2.What category base contributes the most to sales?\n",
    "\n",
    "3.How does the impact of each customer segment change over time?\n",
    "\n",
    "4.What is the sales goals for the next 5 years?"
   ]
  },
  {
   "cell_type": "code",
   "execution_count": 1,
   "id": "72f2fdd5-83ee-4de8-9b7f-44fa6a1d0c1b",
   "metadata": {},
   "outputs": [
    {
     "name": "stderr",
     "output_type": "stream",
     "text": [
      "Importing plotly failed. Interactive plots will not work.\n"
     ]
    }
   ],
   "source": [
    "# visualize \n",
    "import matplotlib.pyplot as plt\n",
    "\n",
    "# for tsa\n",
    "import statsmodels.api as sm\n",
    "\n",
    "#important import \n",
    "import pandas as pd\n",
    "import numpy as np\n",
    "import os\n",
    "import wrangle as w\n",
    "import model as m\n",
    "\n",
    "# plotting defaults\n",
    "plt.rc('figure', figsize=(13, 7))\n",
    "plt.style.use('seaborn-dark-palette')\n",
    "plt.rc('font', size=16)"
   ]
  },
  {
   "cell_type": "markdown",
   "id": "7e492998-9df9-4bdd-8583-3e1cf9e42cca",
   "metadata": {},
   "source": [
    "### Wrangle"
   ]
  },
  {
   "cell_type": "code",
   "execution_count": 2,
   "id": "f25fb053-31b2-43d4-90e6-3cac4c528df1",
   "metadata": {},
   "outputs": [],
   "source": [
    "#Acquire superstore dataset\n",
    "df = w.get_superstore_data()"
   ]
  },
  {
   "cell_type": "code",
   "execution_count": 3,
   "id": "0967c477-950f-40b4-ba4f-ab44d92f3688",
   "metadata": {},
   "outputs": [],
   "source": [
    "#Clean superstore data\n",
    "df = w.prep_superstore(df, 'Order Date', 'Ship Date')"
   ]
  },
  {
   "cell_type": "code",
   "execution_count": 4,
   "id": "0897edfd-4c8a-4578-ac31-e73fbee0e03f",
   "metadata": {},
   "outputs": [],
   "source": [
    "#Split our data \n",
    "train, validate, test = w.split_time_series_data(df)"
   ]
  },
  {
   "cell_type": "markdown",
   "id": "4a02ddf5-d9b8-45f7-ba32-f7a4b2fbbda5",
   "metadata": {},
   "source": [
    "**Take away:**\n",
    "- The data have no nulls, change datatypes of order date and ship date into datetime and then set order date as an index.\n",
    "- Remove id columns (foreign keys)\n",
    "- Rename columns, create month columns (month name)\n",
    "- Split data into train, validate and test"
   ]
  },
  {
   "cell_type": "markdown",
   "id": "e119bf82-a0bf-4aea-ba74-e99a931890da",
   "metadata": {},
   "source": [
    "### Exploration"
   ]
  },
  {
   "cell_type": "code",
   "execution_count": null,
   "id": "f9c3b8ed-330c-4617-9d5f-b48464bbe5aa",
   "metadata": {},
   "outputs": [],
   "source": []
  },
  {
   "cell_type": "code",
   "execution_count": null,
   "id": "5d920fcd-8c5c-4592-9cd3-601695bd2b4a",
   "metadata": {},
   "outputs": [],
   "source": []
  },
  {
   "cell_type": "markdown",
   "id": "77e705c3-48f6-4c82-bb43-8c6bd0bf7f7c",
   "metadata": {},
   "source": [
    "## Modeling"
   ]
  },
  {
   "cell_type": "code",
   "execution_count": 5,
   "id": "7b39deec-9ef4-4060-a91c-a49eedfb984e",
   "metadata": {},
   "outputs": [
    {
     "name": "stderr",
     "output_type": "stream",
     "text": [
      "INFO:fbprophet:Disabling weekly seasonality. Run prophet with weekly_seasonality=True to override this.\n",
      "INFO:fbprophet:Disabling daily seasonality. Run prophet with daily_seasonality=True to override this.\n",
      "INFO:fbprophet:n_changepoints greater than number of observations. Using 22.\n",
      "INFO:fbprophet:Disabling weekly seasonality. Run prophet with weekly_seasonality=True to override this.\n",
      "INFO:fbprophet:Disabling daily seasonality. Run prophet with daily_seasonality=True to override this.\n",
      "INFO:fbprophet:n_changepoints greater than number of observations. Using 22.\n"
     ]
    },
    {
     "name": "stdout",
     "output_type": "stream",
     "text": [
      "\n",
      "Initial log joint probability = -48.2986\n",
      "Iteration  1. Log joint probability =    24.2289. Improved by 72.5275.\n",
      "Iteration  2. Log joint probability =    41.8163. Improved by 17.5873.\n",
      "Iteration  3. Log joint probability =    54.0278. Improved by 12.2115.\n",
      "Iteration  4. Log joint probability =    55.0791. Improved by 1.05134.\n",
      "Iteration  5. Log joint probability =    55.2738. Improved by 0.19473.\n",
      "Iteration  6. Log joint probability =    55.2815. Improved by 0.00767737.\n",
      "Iteration  7. Log joint probability =    55.3104. Improved by 0.0288299.\n",
      "Iteration  8. Log joint probability =    55.3137. Improved by 0.0033459.\n",
      "Iteration  9. Log joint probability =     55.372. Improved by 0.0583473.\n",
      "Iteration 10. Log joint probability =     55.421. Improved by 0.0489721.\n",
      "Iteration 11. Log joint probability =    55.4324. Improved by 0.0113712.\n",
      "Iteration 12. Log joint probability =    55.5368. Improved by 0.104402.\n",
      "Iteration 13. Log joint probability =    55.5599. Improved by 0.0230585.\n",
      "Iteration 14. Log joint probability =    55.5892. Improved by 0.0293867.\n",
      "Iteration 15. Log joint probability =     55.625. Improved by 0.0357732.\n",
      "Iteration 16. Log joint probability =    55.6596. Improved by 0.0346304.\n",
      "Iteration 17. Log joint probability =    55.8157. Improved by 0.156085.\n",
      "Iteration 18. Log joint probability =    55.8407. Improved by 0.0249815.\n",
      "Iteration 19. Log joint probability =    55.8857. Improved by 0.0449909.\n",
      "Iteration 20. Log joint probability =    55.9235. Improved by 0.0378369.\n",
      "Iteration 21. Log joint probability =    55.9381. Improved by 0.0145228.\n",
      "Iteration 22. Log joint probability =    55.9405. Improved by 0.00240236.\n",
      "Iteration 23. Log joint probability =    55.9614. Improved by 0.0209593.\n",
      "Iteration 24. Log joint probability =    55.9678. Improved by 0.00633664.\n",
      "Iteration 25. Log joint probability =     55.971. Improved by 0.00327795.\n",
      "Iteration 26. Log joint probability =    55.9745. Improved by 0.00344188.\n",
      "Iteration 27. Log joint probability =    55.9761. Improved by 0.0016582.\n",
      "Iteration 28. Log joint probability =    55.9764. Improved by 0.000249053.\n",
      "Iteration 29. Log joint probability =    55.9792. Improved by 0.00282482.\n",
      "Iteration 30. Log joint probability =    55.9802. Improved by 0.00103079.\n",
      "Iteration 31. Log joint probability =    55.9807. Improved by 0.000501437.\n",
      "Iteration 32. Log joint probability =    55.9808. Improved by 6.67875e-05.\n",
      "Iteration 33. Log joint probability =    55.9809. Improved by 0.000125541.\n",
      "Iteration 34. Log joint probability =    55.9811. Improved by 0.000139153.\n",
      "Iteration 35. Log joint probability =    55.9814. Improved by 0.000298958.\n",
      "Iteration 36. Log joint probability =    55.9814. Improved by 7.58845e-05.\n",
      "Iteration 37. Log joint probability =    55.9815. Improved by 6.36322e-05.\n",
      "Iteration 38. Log joint probability =    55.9815. Improved by 1.88987e-05.\n",
      "Iteration 39. Log joint probability =    55.9815. Improved by 1.94171e-08.\n",
      "Iteration 40. Log joint probability =    55.9816. Improved by 4.26021e-05.\n",
      "Iteration 41. Log joint probability =    55.9817. Improved by 8.13361e-05.\n",
      "Iteration 42. Log joint probability =    55.9817. Improved by 2.16665e-05.\n",
      "Iteration 43. Log joint probability =    55.9817. Improved by 1.76192e-05.\n",
      "Iteration 44. Log joint probability =    55.9817. Improved by 2.37214e-06.\n",
      "Iteration 45. Log joint probability =    55.9817. Improved by 6.88193e-06.\n",
      "Iteration 46. Log joint probability =    55.9817. Improved by 5.68927e-06.\n",
      "Iteration 47. Log joint probability =    55.9817. Improved by 3.53882e-06.\n",
      "Iteration 48. Log joint probability =    55.9817. Improved by 1.41672e-06.\n",
      "Iteration 49. Log joint probability =    55.9817. Improved by 9.8865e-07.\n",
      "Iteration 50. Log joint probability =    55.9817. Improved by 1.77518e-07.\n",
      "Iteration 51. Log joint probability =    55.9817. Improved by 8.33941e-07.\n",
      "Iteration 52. Log joint probability =    55.9817. Improved by 1.29415e-07.\n",
      "Iteration 53. Log joint probability =    55.9817. Improved by 8.30291e-07.\n",
      "Iteration 54. Log joint probability =    55.9817. Improved by 1.14578e-06.\n",
      "Iteration 55. Log joint probability =    55.9817. Improved by 4.36092e-07.\n",
      "Iteration 56. Log joint probability =    55.9817. Improved by 4.29346e-09.\n",
      "\n",
      "Initial log joint probability = -48.2531\n"
     ]
    },
    {
     "name": "stderr",
     "output_type": "stream",
     "text": [
      "INFO:fbprophet:Disabling weekly seasonality. Run prophet with weekly_seasonality=True to override this.\n",
      "INFO:fbprophet:Disabling daily seasonality. Run prophet with daily_seasonality=True to override this.\n",
      "INFO:fbprophet:n_changepoints greater than number of observations. Using 22.\n"
     ]
    },
    {
     "name": "stdout",
     "output_type": "stream",
     "text": [
      "Iteration  1. Log joint probability =    25.6344. Improved by 73.8874.\n",
      "Iteration  2. Log joint probability =    38.4735. Improved by 12.8392.\n",
      "Iteration  3. Log joint probability =    55.1814. Improved by 16.7079.\n",
      "Iteration  4. Log joint probability =    59.4543. Improved by 4.27293.\n",
      "Iteration  5. Log joint probability =    59.4674. Improved by 0.0130418.\n",
      "Iteration  6. Log joint probability =    59.6076. Improved by 0.14018.\n",
      "Iteration  7. Log joint probability =    59.6171. Improved by 0.00953201.\n",
      "Iteration  8. Log joint probability =    59.6604. Improved by 0.043332.\n",
      "Iteration  9. Log joint probability =    59.6767. Improved by 0.0162784.\n",
      "Iteration 10. Log joint probability =    59.6769. Improved by 0.000222325.\n",
      "Iteration 11. Log joint probability =    59.6801. Improved by 0.00317522.\n",
      "Iteration 12. Log joint probability =    59.6923. Improved by 0.01219.\n",
      "Iteration 13. Log joint probability =    59.6938. Improved by 0.0014827.\n",
      "Iteration 14. Log joint probability =    59.6965. Improved by 0.00272162.\n",
      "Iteration 15. Log joint probability =    59.6985. Improved by 0.00201716.\n",
      "Iteration 16. Log joint probability =    59.6997. Improved by 0.00118922.\n",
      "Iteration 17. Log joint probability =    59.7003. Improved by 0.000571971.\n",
      "Iteration 18. Log joint probability =    59.7004. Improved by 0.000128171.\n",
      "Iteration 19. Log joint probability =    59.7004. Improved by 6.77756e-06.\n",
      "Iteration 20. Log joint probability =    59.7007. Improved by 0.000278869.\n",
      "Iteration 21. Log joint probability =    59.7008. Improved by 0.000113033.\n",
      "Iteration 22. Log joint probability =    59.7009. Improved by 0.000123891.\n",
      "Iteration 23. Log joint probability =     59.701. Improved by 3.73376e-05.\n",
      "Iteration 24. Log joint probability =     59.701. Improved by 7.39407e-05.\n",
      "Iteration 25. Log joint probability =     59.701. Improved by 6.50424e-06.\n",
      "Iteration 26. Log joint probability =    59.7011. Improved by 6.49405e-06.\n",
      "Iteration 27. Log joint probability =    59.7011. Improved by 3.18455e-05.\n",
      "Iteration 28. Log joint probability =    59.7011. Improved by 1.50263e-05.\n",
      "Iteration 29. Log joint probability =    59.7011. Improved by 1.69543e-05.\n",
      "Iteration 30. Log joint probability =    59.7011. Improved by 3.64183e-06.\n",
      "Iteration 31. Log joint probability =    59.7011. Improved by 1.18618e-05.\n",
      "Iteration 32. Log joint probability =    59.7011. Improved by 1.31921e-06.\n",
      "Iteration 33. Log joint probability =    59.7011. Improved by 3.17938e-06.\n",
      "Iteration 34. Log joint probability =    59.7011. Improved by 1.92693e-06.\n",
      "Iteration 35. Log joint probability =    59.7011. Improved by 6.40361e-07.\n",
      "Iteration 36. Log joint probability =    59.7011. Improved by 5.84617e-07.\n",
      "Iteration 37. Log joint probability =    59.7011. Improved by 5.05551e-07.\n",
      "Iteration 38. Log joint probability =    59.7011. Improved by 6.37806e-08.\n",
      "Iteration 39. Log joint probability =    59.7011. Improved by 3.11335e-07.\n",
      "Iteration 40. Log joint probability =    59.7011. Improved by 1.57249e-08.\n",
      "Iteration 41. Log joint probability =    59.7011. Improved by 3.16398e-08.\n",
      "Iteration 42. Log joint probability =    59.7011. Improved by 1.48546e-08.\n",
      "Iteration 43. Log joint probability =    59.7011. Improved by 1.20358e-08.\n",
      "Iteration 44. Log joint probability =    59.7011. Improved by 2.36758e-08.\n",
      "Iteration 45. Log joint probability =    59.7011. Improved by 3.61467e-09.\n",
      "\n",
      "Initial log joint probability = -48.4645\n",
      "Iteration  1. Log joint probability =    23.0903. Improved by 71.5548.\n",
      "Iteration  2. Log joint probability =    23.6263. Improved by 0.535956.\n",
      "Iteration  3. Log joint probability =    32.8536. Improved by 9.22733.\n",
      "Iteration  4. Log joint probability =    39.4221. Improved by 6.56851.\n",
      "Iteration  5. Log joint probability =    47.6214. Improved by 8.1993.\n",
      "Iteration  6. Log joint probability =    47.9896. Improved by 0.368131.\n",
      "Iteration  7. Log joint probability =    47.9978. Improved by 0.00827731.\n",
      "Iteration  8. Log joint probability =    48.0222. Improved by 0.0243931.\n",
      "Iteration  9. Log joint probability =    48.1383. Improved by 0.116118.\n",
      "Iteration 10. Log joint probability =    48.1536. Improved by 0.0152914.\n",
      "Iteration 11. Log joint probability =    48.1605. Improved by 0.00685912.\n",
      "Iteration 12. Log joint probability =    48.1827. Improved by 0.0222345.\n",
      "Iteration 13. Log joint probability =     48.215. Improved by 0.0323123.\n",
      "Iteration 14. Log joint probability =    48.3587. Improved by 0.143661.\n",
      "Iteration 15. Log joint probability =    48.3908. Improved by 0.032112.\n",
      "Iteration 16. Log joint probability =    48.4236. Improved by 0.0328128.\n",
      "Iteration 17. Log joint probability =    48.4323. Improved by 0.00866979.\n",
      "Iteration 18. Log joint probability =    48.4328. Improved by 0.000459229.\n",
      "Iteration 19. Log joint probability =    48.4497. Improved by 0.0169537.\n",
      "Iteration 20. Log joint probability =    48.4551. Improved by 0.00538371.\n",
      "Iteration 21. Log joint probability =    48.4588. Improved by 0.00373191.\n",
      "Iteration 22. Log joint probability =    48.4616. Improved by 0.00281552.\n",
      "Iteration 23. Log joint probability =    48.4651. Improved by 0.00346655.\n",
      "Iteration 24. Log joint probability =    48.4669. Improved by 0.00179603.\n",
      "Iteration 25. Log joint probability =    48.4682. Improved by 0.00133377.\n",
      "Iteration 26. Log joint probability =    48.4686. Improved by 0.000338547.\n",
      "Iteration 27. Log joint probability =    48.4689. Improved by 0.000278906.\n",
      "Iteration 28. Log joint probability =    48.4692. Improved by 0.000393964.\n",
      "Iteration 29. Log joint probability =    48.4697. Improved by 0.000494165.\n",
      "Iteration 30. Log joint probability =    48.4699. Improved by 0.000161492.\n",
      "Iteration 31. Log joint probability =      48.47. Improved by 0.0001238.\n",
      "Iteration 32. Log joint probability =    48.4701. Improved by 0.000122837.\n",
      "Iteration 33. Log joint probability =    48.4702. Improved by 5.96644e-05.\n",
      "Iteration 34. Log joint probability =    48.4702. Improved by 4.98279e-06.\n",
      "Iteration 35. Log joint probability =    48.4702. Improved by 6.95359e-06.\n",
      "Iteration 36. Log joint probability =    48.4702. Improved by 2.48499e-05.\n",
      "Iteration 37. Log joint probability =    48.4703. Improved by 6.65311e-06.\n",
      "Iteration 38. Log joint probability =    48.4703. Improved by 2.13154e-06.\n",
      "Iteration 39. Log joint probability =    48.4703. Improved by 2.38577e-05.\n",
      "Iteration 40. Log joint probability =    48.4703. Improved by 1.71461e-05.\n",
      "Iteration 41. Log joint probability =    48.4703. Improved by 2.66383e-05.\n",
      "Iteration 42. Log joint probability =    48.4703. Improved by 4.98776e-06.\n",
      "Iteration 43. Log joint probability =    48.4703. Improved by 9.79364e-06.\n",
      "Iteration 44. Log joint probability =    48.4703. Improved by 1.18886e-05.\n",
      "Iteration 45. Log joint probability =    48.4704. Improved by 7.05827e-06.\n",
      "Iteration 46. Log joint probability =    48.4704. Improved by 5.37974e-06.\n",
      "Iteration 47. Log joint probability =    48.4704. Improved by 4.86565e-06.\n",
      "Iteration 48. Log joint probability =    48.4704. Improved by 3.60556e-06.\n",
      "Iteration 49. Log joint probability =    48.4704. Improved by 5.33021e-07.\n",
      "Iteration 50. Log joint probability =    48.4704. Improved by 6.89381e-07.\n",
      "Iteration 51. Log joint probability =    48.4704. Improved by 1.41543e-07.\n",
      "Iteration 52. Log joint probability =    48.4704. Improved by 1.33627e-06.\n",
      "Iteration 53. Log joint probability =    48.4704. Improved by 2.53223e-06.\n",
      "Iteration 54. Log joint probability =    48.4704. Improved by 7.10988e-07.\n",
      "Iteration 55. Log joint probability =    48.4704. Improved by 2.5967e-07.\n",
      "Iteration 56. Log joint probability =    48.4704. Improved by 3.7167e-07.\n",
      "Iteration 57. Log joint probability =    48.4704. Improved by 8.66241e-08.\n",
      "Iteration 58. Log joint probability =    48.4704. Improved by 9.59546e-08.\n",
      "Iteration 59. Log joint probability =    48.4704. Improved by 7.85363e-08.\n",
      "Iteration 60. Log joint probability =    48.4704. Improved by 1.50596e-07.\n",
      "Iteration 61. Log joint probability =    48.4704. Improved by 1.78114e-07.\n",
      "Iteration 62. Log joint probability =    48.4704. Improved by 1.25318e-07.\n",
      "Iteration 63. Log joint probability =    48.4704. Improved by 8.33738e-08.\n",
      "Iteration 64. Log joint probability =    48.4704. Improved by 1.25315e-09.\n"
     ]
    }
   ],
   "source": [
    "furniture_model, office_model, technology_model, furniture_forecast, office_forecast, technology_forecast = m.create_model(train, 'category', 'Order Date', target = 'sales')"
   ]
  },
  {
   "cell_type": "code",
   "execution_count": null,
   "id": "94e911ce-7717-4f32-9df7-cb6801be4c04",
   "metadata": {},
   "outputs": [],
   "source": []
  },
  {
   "cell_type": "markdown",
   "id": "db1526f9-4592-4d43-9699-6a3278f8d21a",
   "metadata": {},
   "source": [
    "### Conclusion"
   ]
  },
  {
   "cell_type": "code",
   "execution_count": null,
   "id": "e66d3d4b-1f29-48e1-aa38-2434954ced7a",
   "metadata": {},
   "outputs": [],
   "source": []
  },
  {
   "cell_type": "markdown",
   "id": "b97faf4a-0540-4c45-8aef-6617bfdeabac",
   "metadata": {},
   "source": [
    "### Recomendations"
   ]
  },
  {
   "cell_type": "code",
   "execution_count": null,
   "id": "9f8eaf6f-fc47-4c50-93f9-4f08b4b49cea",
   "metadata": {},
   "outputs": [],
   "source": []
  },
  {
   "cell_type": "markdown",
   "id": "a5e27c4c-5573-43f8-9753-8e92671a7d82",
   "metadata": {},
   "source": [
    "### Next steps"
   ]
  },
  {
   "cell_type": "code",
   "execution_count": null,
   "id": "04ceee6d-dc5c-4bb5-8ad4-ffc7e8b998a4",
   "metadata": {},
   "outputs": [],
   "source": []
  }
 ],
 "metadata": {
  "kernelspec": {
   "display_name": "Python 3 (ipykernel)",
   "language": "python",
   "name": "python3"
  },
  "language_info": {
   "codemirror_mode": {
    "name": "ipython",
    "version": 3
   },
   "file_extension": ".py",
   "mimetype": "text/x-python",
   "name": "python",
   "nbconvert_exporter": "python",
   "pygments_lexer": "ipython3",
   "version": "3.9.7"
  }
 },
 "nbformat": 4,
 "nbformat_minor": 5
}
